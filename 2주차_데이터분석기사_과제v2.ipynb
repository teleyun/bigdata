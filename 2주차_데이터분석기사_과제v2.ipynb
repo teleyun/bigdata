{
  "nbformat": 4,
  "nbformat_minor": 0,
  "metadata": {
    "colab": {
      "name": "2주차_데이터분석기사_과제v2.ipynb",
      "provenance": [],
      "collapsed_sections": [],
      "include_colab_link": true
    },
    "kernelspec": {
      "name": "python3",
      "display_name": "Python 3"
    },
    "language_info": {
      "name": "python"
    }
  },
  "cells": [
    {
      "cell_type": "markdown",
      "metadata": {
        "id": "view-in-github",
        "colab_type": "text"
      },
      "source": [
        "<a href=\"https://colab.research.google.com/github/teleyun/bigdata/blob/main/2%EC%A3%BC%EC%B0%A8_%EB%8D%B0%EC%9D%B4%ED%84%B0%EB%B6%84%EC%84%9D%EA%B8%B0%EC%82%AC_%EA%B3%BC%EC%A0%9Cv2.ipynb\" target=\"_parent\"><img src=\"https://colab.research.google.com/assets/colab-badge.svg\" alt=\"Open In Colab\"/></a>"
      ]
    },
    {
      "cell_type": "markdown",
      "source": [
        "제출 : 5. 25(수) 12시 까지\n",
        "\n",
        "제출처 : desunny@naver.com"
      ],
      "metadata": {
        "id": "KxfuYj0INvBx"
      }
    },
    {
      "cell_type": "code",
      "source": [
        "!git clone https://github.com/AnalyticsKnight/yemoonsaBigdata/"
      ],
      "metadata": {
        "colab": {
          "base_uri": "https://localhost:8080/"
        },
        "id": "VHHqdFho5GQS",
        "outputId": "2307b56a-23f2-42dd-83ba-6df00f109258"
      },
      "execution_count": 1,
      "outputs": [
        {
          "output_type": "stream",
          "name": "stdout",
          "text": [
            "Cloning into 'yemoonsaBigdata'...\n",
            "remote: Enumerating objects: 462, done.\u001b[K\n",
            "remote: Counting objects: 100% (99/99), done.\u001b[K\n",
            "remote: Compressing objects: 100% (56/56), done.\u001b[K\n",
            "remote: Total 462 (delta 59), reused 43 (delta 43), pack-reused 363\u001b[K\n",
            "Receiving objects: 100% (462/462), 8.40 MiB | 4.92 MiB/s, done.\n",
            "Resolving deltas: 100% (244/244), done.\n"
          ]
        }
      ]
    },
    {
      "cell_type": "markdown",
      "source": [
        "#1.Iris 데이터 세트"
      ],
      "metadata": {
        "id": "5TqE-4SgXJ7W"
      }
    },
    {
      "cell_type": "code",
      "source": [
        "import pandas as pd\n",
        "data = pd.read_csv(\"./yemoonsaBigdata/datasets/Part2/iris.csv\")"
      ],
      "metadata": {
        "id": "lLWsbmpqmA5V"
      },
      "execution_count": 67,
      "outputs": []
    },
    {
      "cell_type": "code",
      "source": [
        ""
      ],
      "metadata": {
        "id": "vTRW8hJp9jot"
      },
      "execution_count": null,
      "outputs": []
    },
    {
      "cell_type": "markdown",
      "source": [
        "##1) Iris 데이터 세트에서 species 변수 값별로 petal_width 상위 25% 값을 구한 후, 가장 큰 값과 가장 작은 값 사이의 차이를 계산하시오"
      ],
      "metadata": {
        "id": "3D-MumlakyvO"
      }
    },
    {
      "cell_type": "code",
      "source": [
        "data2 = data.groupby('species')[['petal_width']].quantile(0.25)\n",
        "print(\"변수별 'petal_width' 상위 25% 값\")\n",
        "print(data2)\n",
        "print('-' * 25)\n",
        "print('값 차이 : {}'.format(data2['petal_width'].max()-data2['petal_width'].min()))"
      ],
      "metadata": {
        "id": "Yl39rkP1YECB",
        "colab": {
          "base_uri": "https://localhost:8080/"
        },
        "outputId": "161a0144-5e08-454f-ead7-6f3b3edac58d"
      },
      "execution_count": 92,
      "outputs": [
        {
          "output_type": "stream",
          "name": "stdout",
          "text": [
            "변수별 'petal_width' 상위 25% 값\n",
            "            petal_width\n",
            "species                \n",
            "setosa              0.2\n",
            "versicolor          1.2\n",
            "virginica           1.8\n",
            "-------------------------\n",
            "값 차이 : 1.6\n"
          ]
        }
      ]
    },
    {
      "cell_type": "markdown",
      "source": [
        "##2) Iris 데이터 세트에서 sepal_length 변수의 전체 값들을 중복 없이 리스트로 만든 후, 오름차순으로 정렬했을 때 리스트의 10번째에 오는 숫자를 계산하시오."
      ],
      "metadata": {
        "id": "aikvAMIm4tH3"
      }
    },
    {
      "cell_type": "code",
      "source": [
        "sepal_length_list = list(set(data['sepal_length']))\n",
        "sepal_length_df = pd.DataFrame(sepal_length_list, columns = ['sepal_length'])\n",
        "print(\"10번째 값 :\", list(sepal_length_df['sepal_length'].sort_values())[9])"
      ],
      "metadata": {
        "id": "5v8oG6Kd0Zlg",
        "colab": {
          "base_uri": "https://localhost:8080/"
        },
        "outputId": "9f497cdc-ad7e-4ad2-8e32-6a9e52208bad"
      },
      "execution_count": 135,
      "outputs": [
        {
          "output_type": "stream",
          "name": "stdout",
          "text": [
            "10번째 값 : 5.2\n"
          ]
        }
      ]
    },
    {
      "cell_type": "code",
      "source": [
        "data2 = data.sort_values(by='sepal_length', ascending = True)\n",
        "print(\"10번째 값 : {}\".format(data2['sepal_length'].drop_duplicates().tolist()[9]))"
      ],
      "metadata": {
        "colab": {
          "base_uri": "https://localhost:8080/"
        },
        "id": "gG0OcJqMAejt",
        "outputId": "2bb1ed17-0c11-41d9-cfed-d03f7fc035a1"
      },
      "execution_count": 136,
      "outputs": [
        {
          "output_type": "stream",
          "name": "stdout",
          "text": [
            "10번째 값 : 5.2\n"
          ]
        }
      ]
    },
    {
      "cell_type": "markdown",
      "source": [
        "##3) Iris 데이터 세트를 sepal_width 변수 값으로 내림차순한 후 위에서부터 100개 행을 학습 데이터로 분리하고, 학습 데이터에서 sepal_width의 표준편차 값을 구한 후 50을 곱한 값을 계산하시오(최종 계산 값의 소수점 이하는 버린다.)"
      ],
      "metadata": {
        "id": "yuFqdiaS5JQM"
      }
    },
    {
      "cell_type": "code",
      "source": [
        "data_train = data.sort_values(by='sepal_width', ascending = False, ignore_index=True)[0:100]\n",
        "result = int(data_train['sepal_width'].agg(['std']) * 50)\n",
        "print('값 : ', result)"
      ],
      "metadata": {
        "id": "7RlkOohr08UO",
        "colab": {
          "base_uri": "https://localhost:8080/"
        },
        "outputId": "df5abdb4-fc4a-4cfd-ea4f-836eda7fbc8e"
      },
      "execution_count": null,
      "outputs": [
        {
          "output_type": "stream",
          "name": "stdout",
          "text": [
            "값 :  16\n"
          ]
        }
      ]
    },
    {
      "cell_type": "markdown",
      "source": [
        "##4) Iris 데이터 세트에서 species 변수 값별로 petal_length 상위 10개 행(큰 값)의 평균값을 구한 후, 평균값의 합을 계산하시오(최종 계산 값의 소수점 이하는 반올림한다.)"
      ],
      "metadata": {
        "id": "aa12FmQN627f"
      }
    },
    {
      "cell_type": "code",
      "source": [
        "data_10 = data.sort_values(by = 'petal_length', ascending = False).groupby('species').head(10)\n",
        "result = int(round(data_10.groupby('species')[['petal_length']].mean().sum(),0))\n",
        "\n",
        "print('변수값별 상위 10개 행의 평균값의 합 :{}'.format(result) )\n"
      ],
      "metadata": {
        "colab": {
          "base_uri": "https://localhost:8080/"
        },
        "id": "UR_qDV7scVii",
        "outputId": "f975dc5e-377e-4893-b1a0-115754c898b0"
      },
      "execution_count": null,
      "outputs": [
        {
          "output_type": "stream",
          "name": "stdout",
          "text": [
            "변수값별 상위 10개 행의 평균값의 합 :13\n"
          ]
        }
      ]
    },
    {
      "cell_type": "markdown",
      "source": [
        "##5) Iris 데이터 세트에서 sepal_length 변수가 이상치를 가지는 데이터 행 수를 계산하시오(단, 이상치 범위는 (평균＋2×표준편차) 이상이거나 (평균－2×표준편차) 이하이다.)"
      ],
      "metadata": {
        "id": "FYtO1JkT9fdK"
      }
    },
    {
      "cell_type": "code",
      "source": [
        "data_sepal_length = data[['sepal_length']]\n",
        "outlier_upper = data_sepal_length.mean() + data_sepal_length.std() * 2\n",
        "outlier_under = data_sepal_length.mean() - data_sepal_length.std() * 2\n",
        "outlier = (data_sepal_length[['sepal_length']] >= outlier_upper) | (data_sepal_length[['sepal_length']] <= outlier_under)\n",
        "print(\"이상치 개수 : {}개\".format(int(outlier.sum())))"
      ],
      "metadata": {
        "colab": {
          "base_uri": "https://localhost:8080/"
        },
        "id": "qAyDKwodm3NU",
        "outputId": "74ec9885-d277-42cc-fcff-72f308863b19"
      },
      "execution_count": null,
      "outputs": [
        {
          "output_type": "stream",
          "name": "stdout",
          "text": [
            "이상치 개수 : 6개\n"
          ]
        }
      ]
    },
    {
      "cell_type": "markdown",
      "source": [
        "#2. Wine 데이터 세트"
      ],
      "metadata": {
        "id": "Bp1go40oW7q1"
      }
    },
    {
      "cell_type": "code",
      "source": [
        "import pandas as pd\n",
        "data = pd.read_csv(\"./yemoonsaBigdata/datasets/Part2/wine.csv\")\n",
        "# data['class'].value_counts()\n",
        "# data.head(30)"
      ],
      "metadata": {
        "id": "R7Qt95tI5UbO"
      },
      "execution_count": 137,
      "outputs": []
    },
    {
      "cell_type": "markdown",
      "source": [
        "##1) Wine 데이터 세트에서 total_phenols 결측치를 제거하고 alcalinity_of_ash 변수의 결측치는 중앙값으로 대체한 후, alcalinity_of_ash 평균값을 계산하시오(최종 계산 값의 소수점 이하는 버린다.)."
      ],
      "metadata": {
        "id": "2G78SMGcPAco"
      }
    },
    {
      "cell_type": "code",
      "source": [
        "data1 = data[data['total_phenols'].notnull()]\n",
        "data1 = data1.copy()\n",
        "data1[data1['alcalinity_of_ash'].isnull()] = data1['alcalinity_of_ash'].median()\n",
        "print(\"평균값 :{}\".format(int(data1['alcalinity_of_ash'].mean())))"
      ],
      "metadata": {
        "id": "Z1NLxFxENNtT",
        "colab": {
          "base_uri": "https://localhost:8080/"
        },
        "outputId": "d149abd7-eebd-4aaa-8fe7-a0e7d4b5e283"
      },
      "execution_count": null,
      "outputs": [
        {
          "output_type": "stream",
          "name": "stdout",
          "text": [
            "평균값 :19\n"
          ]
        }
      ]
    },
    {
      "cell_type": "markdown",
      "source": [
        "##2) Wine 데이터 세트에서 alcohol 값이 alcohol 평균 값 이상이고, color_intensity 값이 color_intensity 평균 값 이상인 데이터만 남겼을 때, 가장 많은 class 값을 구하시오"
      ],
      "metadata": {
        "id": "Fb98ZU5QXv4s"
      }
    },
    {
      "cell_type": "code",
      "source": [
        "data1 = data[(data['alcohol'] >= data['alcohol'].mean()) & (data['color_intensity'] >= data['color_intensity'].mean())]\n",
        "result = data1.groupby('class')['class'].count().max()\n",
        "print(\"가장 많은 class 값 : {}\".format(result))"
      ],
      "metadata": {
        "colab": {
          "base_uri": "https://localhost:8080/"
        },
        "id": "rGxWi0scu3EK",
        "outputId": "44c8c2b0-d426-4765-977c-6c613eace24b"
      },
      "execution_count": null,
      "outputs": [
        {
          "output_type": "stream",
          "name": "stdout",
          "text": [
            "가장 많은 class 값 : 37\n"
          ]
        }
      ]
    },
    {
      "cell_type": "markdown",
      "source": [
        "##3) Wine 데이터 세트에서 class 1에 해당하는 데이터의 ash 평균값과 Wine 데이터 세트의 모든 결측치를 제거한 후의 ash 값의 평균값의 차이의 절댓값을 계산하시오(최종 계산 값의 소수점 아래 4번째 자리에서 반올림한다.)"
      ],
      "metadata": {
        "id": "k37JuW21Xw7w"
      }
    },
    {
      "cell_type": "code",
      "source": [
        "ash_mean = data[data['class'] == 1]['ash'].mean()\n",
        "ash_dropna_mean = data.dropna()['ash'].mean()\n",
        "print(\"절댓값 : %.3f\" % round(abs(ash_mean - ash_dropna_mean),3))"
      ],
      "metadata": {
        "id": "7uTd3MjUi5LR",
        "colab": {
          "base_uri": "https://localhost:8080/"
        },
        "outputId": "8cb48149-de61-4912-8674-7f5351ed7ce4"
      },
      "execution_count": null,
      "outputs": [
        {
          "output_type": "stream",
          "name": "stdout",
          "text": [
            "절댓값 : 0.120\n"
          ]
        }
      ]
    },
    {
      "cell_type": "markdown",
      "source": [
        "##4) Wine 데이터 세트에서 alcohol 변수의 상위에서 20번째 값(alcohol을 오름차순 정렬했을 때 20번째에 위치한 값) 으로 상위 20개의 값을 변환한 후, proanthocyanins가 2 이하인 데이터를 추출하여 alcohol의 평균값을 계산하시오(최종 계산 값의 소수점 아래 3번째 자리에서 반올림한다.)."
      ],
      "metadata": {
        "id": "eP2JbUbYXx6k"
      }
    },
    {
      "cell_type": "code",
      "source": [
        "data_alcohol = data.sort_values('alcohol', ignore_index = True)\n",
        "data_alcohol.loc[0:20, 'alcohol'] = data_alcohol.loc[20, 'alcohol']\n",
        "result = round(data_alcohol[data_alcohol['proanthocyanins'] <= 2]['alcohol'].mean(),2)\n",
        "print(\"평균값 : {}\".format(result))"
      ],
      "metadata": {
        "id": "trn_gx-oXxjY",
        "colab": {
          "base_uri": "https://localhost:8080/"
        },
        "outputId": "54263ddc-5770-4e1e-d7b3-09fbbb6b4e46"
      },
      "execution_count": null,
      "outputs": [
        {
          "output_type": "stream",
          "name": "stdout",
          "text": [
            "평균값 : 12.97\n"
          ]
        }
      ]
    },
    {
      "cell_type": "markdown",
      "source": [
        "##5) Wine 데이터 세트에서 class 1에 해당하는 데이터의 proline 변수의 제 3사분위수와 제 1사분위수 차를 구하고, class 2에 해당하는 데이터의 proline 변수의 제 3사분위수와 제 1사분위수 차를 구하여 두 값의 차이의 절댓값을 계산하시오"
      ],
      "metadata": {
        "id": "NI56d5yVXzi_"
      }
    },
    {
      "cell_type": "code",
      "source": [
        "data_class1_25 = data[data['class'] == 1]['proline'].quantile(0.25)\n",
        "data_class1_75 = data[data['class'] == 1]['proline'].quantile(0.75)\n",
        "data_class2_25 = data[data['class'] == 2]['proline'].quantile(0.25)\n",
        "data_class2_75 = data[data['class'] == 2]['proline'].quantile(0.75)\n",
        "\n",
        "result = abs(( data_class1_75 - data_class1_25) - (data_class2_75 - data_class2_25 ))\n",
        "print(\"두 값 차이의 절대값 : {}\".format(result))"
      ],
      "metadata": {
        "colab": {
          "base_uri": "https://localhost:8080/"
        },
        "id": "KiqUG45P6MYx",
        "outputId": "bf346170-3baf-46f5-cafe-917e165f265c"
      },
      "execution_count": null,
      "outputs": [
        {
          "output_type": "stream",
          "name": "stdout",
          "text": [
            "두 값 차이의 절대값 : 68.5\n"
          ]
        }
      ]
    }
  ]
}