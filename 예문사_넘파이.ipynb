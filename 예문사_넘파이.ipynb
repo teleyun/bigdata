{
 "cells": [
  {
   "cell_type": "code",
   "execution_count": 4,
   "id": "de43a088",
   "metadata": {},
   "outputs": [
    {
     "data": {
      "text/plain": [
       "(3, 1)"
      ]
     },
     "execution_count": 4,
     "metadata": {},
     "output_type": "execute_result"
    }
   ],
   "source": [
    "import numpy as np\n",
    "import pandas as pd\n",
    "\n",
    "a1 = np.array([1,2,3])\n",
    "a1.reshape(-1,1).shape"
   ]
  },
  {
   "cell_type": "code",
   "execution_count": 5,
   "id": "a8c74bc2",
   "metadata": {},
   "outputs": [
    {
     "data": {
      "text/plain": [
       "array([[0, 1, 2, 3, 4],\n",
       "       [5, 6, 7, 8, 9]])"
      ]
     },
     "execution_count": 5,
     "metadata": {},
     "output_type": "execute_result"
    }
   ],
   "source": [
    "a2 = np.arange(10)\n",
    "a2.reshape(-1,5)"
   ]
  },
  {
   "cell_type": "code",
   "execution_count": 6,
   "id": "8e1dbf8f",
   "metadata": {},
   "outputs": [
    {
     "data": {
      "text/plain": [
       "array([1., 1., 1., 1., 1., 1., 1., 1., 1., 1.])"
      ]
     },
     "execution_count": 6,
     "metadata": {},
     "output_type": "execute_result"
    }
   ],
   "source": [
    "a3 = np.ones(10).astype('float')\n",
    "a3"
   ]
  },
  {
   "cell_type": "code",
   "execution_count": 7,
   "id": "2140830f",
   "metadata": {},
   "outputs": [
    {
     "data": {
      "text/plain": [
       "array([0., 0., 0., 0., 0., 0., 0., 0., 0., 0.])"
      ]
     },
     "execution_count": 7,
     "metadata": {},
     "output_type": "execute_result"
    }
   ],
   "source": [
    "a4 = np.zeros(10)\n",
    "a4"
   ]
  },
  {
   "cell_type": "code",
   "execution_count": 8,
   "id": "6672e2a2",
   "metadata": {},
   "outputs": [
    {
     "data": {
      "text/plain": [
       "array([0.12027228, 0.95099557, 0.62536873])"
      ]
     },
     "execution_count": 8,
     "metadata": {},
     "output_type": "execute_result"
    }
   ],
   "source": [
    "full_a = np.full((4, 3), 'a')\n",
    "random_a = np.random.random(3)\n",
    "random_a"
   ]
  },
  {
   "cell_type": "code",
   "execution_count": 9,
   "id": "ad98ec91",
   "metadata": {},
   "outputs": [
    {
     "data": {
      "text/plain": [
       "numpy.ndarray"
      ]
     },
     "execution_count": 9,
     "metadata": {},
     "output_type": "execute_result"
    }
   ],
   "source": [
    "array1 = np.arange(12)\n",
    "array2 = array1.reshape(2,3,2, order='F')\n",
    "\n",
    "array3 = array2.reshape(1,-1)\n",
    "type(array3)\n",
    "\n",
    "array4 = array2.flatten()\n",
    "type(array4)"
   ]
  },
  {
   "cell_type": "code",
   "execution_count": 10,
   "id": "05791ef5",
   "metadata": {},
   "outputs": [
    {
     "data": {
      "text/plain": [
       "0    0.2\n",
       "a    0.2\n",
       "2    0.2\n",
       "3    0.2\n",
       "4    0.2\n",
       "dtype: float64"
      ]
     },
     "execution_count": 10,
     "metadata": {},
     "output_type": "execute_result"
    }
   ],
   "source": [
    "array5 = np.eye(5).astype('int')\n",
    "ans = pd.DataFrame(array5).rename(columns={1:'a'}, inplace=False)\n",
    "ans.agg('mean')"
   ]
  },
  {
   "cell_type": "code",
   "execution_count": 28,
   "id": "aabaceee",
   "metadata": {},
   "outputs": [
    {
     "data": {
      "text/plain": [
       "13.0"
      ]
     },
     "execution_count": 28,
     "metadata": {},
     "output_type": "execute_result"
    }
   ],
   "source": [
    "x = np.array([13, 13, 13, 13, 13, 13, 14,4,5,6,77,78,454])\n",
    "# np.percentile(x, 25)\n",
    "np.percentile(x,50)\n",
    "# pd.DataFrame(x).agg(['mean','var','max','min'] )"
   ]
  },
  {
   "cell_type": "code",
   "execution_count": null,
   "id": "15eb0619",
   "metadata": {},
   "outputs": [],
   "source": []
  }
 ],
 "metadata": {
  "kernelspec": {
   "display_name": "Python 3 (ipykernel)",
   "language": "python",
   "name": "python3"
  },
  "language_info": {
   "codemirror_mode": {
    "name": "ipython",
    "version": 3
   },
   "file_extension": ".py",
   "mimetype": "text/x-python",
   "name": "python",
   "nbconvert_exporter": "python",
   "pygments_lexer": "ipython3",
   "version": "3.9.7"
  }
 },
 "nbformat": 4,
 "nbformat_minor": 5
}
