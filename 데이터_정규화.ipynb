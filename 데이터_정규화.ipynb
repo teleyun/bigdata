{
 "cells": [
  {
   "cell_type": "code",
   "execution_count": 7,
   "id": "7430491b",
   "metadata": {},
   "outputs": [
    {
     "name": "stdout",
     "output_type": "stream",
     "text": [
      "훈련데이터 오차행렬 : \n",
      " [[  9  37]\n",
      " [  6 106]]\n",
      "테스트데이터 오차행렬 : \n",
      " [[ 0 15]\n",
      " [ 0 38]]\n"
     ]
    }
   ],
   "source": [
    "import warnings\n",
    "warnings.filterwarnings('ignore')\n",
    "\n",
    "import pandas as pd\n",
    "data = pd.read_csv('Fvote.csv', encoding='utf-8')\n",
    "data.head()\n",
    "\n",
    "data.describe()\n",
    "\n",
    "# data.hist(bins=20, figsize=(20,10))\n",
    "\n",
    "X=data.loc[:, 'gender_female':'score_intention']\n",
    "y=data[['vote']]\n",
    "\n",
    "# print(X.shape)\n",
    "# print(y.shape)\n",
    "\n",
    "from sklearn.model_selection import train_test_split\n",
    "X_train, X_test, y_train, y_test = train_test_split(X,y,stratify=y,random_state=42)\n",
    "\n",
    "# print(y_train.mean())\n",
    "# print(y_test.mean())\n",
    "\n",
    "import sklearn\n",
    "from sklearn import *\n",
    "# dir(sklearn)\n",
    "\n",
    "from sklearn.preprocessing import MinMaxScaler\n",
    "scaler_minmax = MinMaxScaler()\n",
    "\n",
    "# help(sklearn.preprocessing.MinMaxScaler)\n",
    "scaler_minmax.fit(X_train)\n",
    "X_scaled_minmax_train = scaler_minmax.transform(X_train)\n",
    "pd.DataFrame(X_scaled_minmax_train).describe()\n",
    "\n",
    "scaler_minmax.fit(X_test)\n",
    "X_scaled_minmax_test = scaler_minmax.transform(X_test)\n",
    "pd.DataFrame(X_scaled_minmax_test).describe()\n",
    "\n",
    "from sklearn.preprocessing import StandardScaler\n",
    "scaler_standard = StandardScaler()\n",
    "\n",
    "scaler_standard.fit(X_train)\n",
    "X_scaled_standard_train = scaler_standard.transform(X_train)\n",
    "pd.DataFrame(X_scaled_standard_train).describe()\n",
    "\n",
    "scaler_standard.fit(X_test)\n",
    "X_scaled_standard_test = scaler_standard.transform(X_test)\n",
    "pd.DataFrame(X_scaled_standard_test).describe()\n",
    "\n",
    "from sklearn.linear_model import LogisticRegression\n",
    "model = LogisticRegression()\n",
    "\n",
    "model.fit(X_scaled_minmax_train, y_train)\n",
    "pred_train = model.predict(X_scaled_minmax_train)\n",
    "model.score(X_scaled_minmax_train, y_train)\n",
    "\n",
    "model.fit(X_scaled_minmax_test, y_test)\n",
    "pred_test = model.predict(X_scaled_minmax_test)\n",
    "model.score(X_scaled_minmax_test, y_test)\n",
    "\n",
    "from sklearn.metrics import confusion_matrix\n",
    "confusion_train = confusion_matrix(y_train, pred_train)\n",
    "print(\"훈련데이터 오차행렬 : \\n\", confusion_train)\n",
    "\n",
    "confusion_test = confusion_matrix(y_test, pred_test)\n",
    "print(\"테스트데이터 오차행렬 : \\n\", confusion_test)\n"
   ]
  }
 ],
 "metadata": {
  "kernelspec": {
   "display_name": "Python 3 (ipykernel)",
   "language": "python",
   "name": "python3"
  },
  "language_info": {
   "codemirror_mode": {
    "name": "ipython",
    "version": 3
   },
   "file_extension": ".py",
   "mimetype": "text/x-python",
   "name": "python",
   "nbconvert_exporter": "python",
   "pygments_lexer": "ipython3",
   "version": "3.9.7"
  }
 },
 "nbformat": 4,
 "nbformat_minor": 5
}
