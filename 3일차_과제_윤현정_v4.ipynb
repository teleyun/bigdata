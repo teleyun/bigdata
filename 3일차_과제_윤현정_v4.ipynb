{
  "cells": [
    {
      "cell_type": "markdown",
      "metadata": {
        "id": "view-in-github",
        "colab_type": "text"
      },
      "source": [
        "<a href=\"https://colab.research.google.com/github/teleyun/bigdata/blob/main/3%EC%9D%BC%EC%B0%A8_%EA%B3%BC%EC%A0%9C_%EC%9C%A4%ED%98%84%EC%A0%95_v4.ipynb\" target=\"_parent\"><img src=\"https://colab.research.google.com/assets/colab-badge.svg\" alt=\"Open In Colab\"/></a>"
      ]
    },
    {
      "cell_type": "markdown",
      "id": "b80a736d",
      "metadata": {
        "id": "b80a736d"
      },
      "source": [
        "# 3일차 과제 \n",
        "\n",
        "- 아래 문제는 3일차 수업에 사용한 데이터를 활용하여 시험 문제와 유사한 형태로 문제를 만든 것입니다.\n",
        "- 수업 내용과 교재를 참고하여 실제 시험을 보는 것처럼 한 셀 안에 코드를 작성해보세요.\n",
        "- 제출 방법: 6/1(수)까지 코드를 작성한 .ipynb 파일을 yi.kyeongsuk@gmail.com로 제출 (***단, 코드 실행 시 정답 csv 파일이 생성되어야 합니다.***)\n"
      ]
    },
    {
      "cell_type": "code",
      "source": [
        "# 이 셀을 먼저 실행한 후 문제를 풀어주세요.\n",
        "!git clone https://github.com/kyeongsuk-yi/data_analyst/"
      ],
      "metadata": {
        "id": "9IgmayvwtBQS",
        "colab": {
          "base_uri": "https://localhost:8080/"
        },
        "outputId": "8dfdf32b-ee6c-45cb-aeda-2c3dcc54562e"
      },
      "id": "9IgmayvwtBQS",
      "execution_count": 2,
      "outputs": [
        {
          "output_type": "stream",
          "name": "stdout",
          "text": [
            "Cloning into 'data_analyst'...\n",
            "remote: Enumerating objects: 19, done.\u001b[K\n",
            "remote: Counting objects: 100% (19/19), done.\u001b[K\n",
            "remote: Compressing objects: 100% (16/16), done.\u001b[K\n",
            "remote: Total 19 (delta 3), reused 0 (delta 0), pack-reused 0\u001b[K\n",
            "Unpacking objects: 100% (19/19), done.\n"
          ]
        }
      ]
    },
    {
      "cell_type": "markdown",
      "source": [
        "### 문제\n",
        "아래는 boston housing 데이터 세트를 변형시킨 데이터이다.   \n",
        "\n",
        "1) 제공 데이터 목록    \n",
        "*   housing_y_train.csv : 주택 고가 여부 데이터(학습용), csv 형식의 파일\n",
        "*   housing_X_train.csv, housing_X_test.csv : 주택 정보(학습 및 평가용), csv 형식의 파일\n",
        "\n",
        "2) 주어진 학습용 데이터 (housing_X_train.csv, housing_y_train.csv)를 활용하여 해당 주택이 고가인지 아닌지를 예측하는 모형을 만든 후, 이를 평가용 데이터(housing_X_test.csv)에 적용하여 얻는 주택 고가 여부(고가일 경우 1, 아니면 0)를 다음과 같은 형식의 csv 파일로 생성하시오. (제출한 모델의 성능은 ROC-AUC 평가 지표에 따라 채점).\n",
        "\n",
        "|isHighValue|\n",
        "|---|\n",
        "|0|\n",
        "|0|\n",
        "|1|\n",
        "|1|\n",
        "|0|\n",
        "|...|\n",
        "\n",
        "3) 유의사항\n",
        "- 성능이 우수한 예측모형을 구축하기 위해서는 적절한 데이터 전처리, feature engineering, 분류 알고리즘 사용, 초매개변수 최적화, 모형 앙상블 등이 수반되어야 한다. \n",
        "- 이름.csv (예: 홍길동.csv) 파일이 만들어지도록 코드를 제출한다.\n",
        "- 제출한 모델의 성능은 ROC-AUC 평가 지표에 따라 채점한다. "
      ],
      "metadata": {
        "id": "OMHtnJ15tAN5"
      },
      "id": "OMHtnJ15tAN5"
    },
    {
      "cell_type": "code",
      "source": [
        "# 출력을 원하실 경우 print() 함수 활용\n",
        "# 예시) print(df.head())\n",
        "\n",
        "# getcwd(), chdir() 등 작업 폴더 설정 불필요\n",
        "# 파일 경로 상 내부 드라이브 경로(C: 등) 접근 불가\n",
        "\n",
        "# 데이터 파일 읽기 예제\n",
        "import pandas as pd\n",
        "X_test = pd.read_csv(\"./data_analyst/data/housing_X_test.csv\")\n",
        "X_train = pd.read_csv(\"./data_analyst/data/housing_X_train.csv\")\n",
        "y_train = pd.read_csv(\"./data_analyst/data/housing_y_train.csv\")\n",
        "\n",
        "\n",
        "######### 여기에 코드를 작성해 주세요. #########\n",
        "# 결측치 처리\n",
        "X_train['CHAS'] = X_train['CHAS'].fillna(X_train['CHAS'].mean())\n",
        "X_train['LSTAT'] = X_train['LSTAT'].fillna(X_train['LSTAT'].mean())\n",
        "\n",
        "# 이상치 처리\n",
        "X_train_y_train = pd.concat([X_train, y_train], axis = 1)\n",
        "Q1, Q3 = X_train_y_train['CHAS'].quantile([0.25, 0.75])\n",
        "IQR = Q3 - Q1\n",
        "upper_bound = Q3 + 1.5 * IQR\n",
        "lower_bound = Q1 - 1.5 * IQR\n",
        "X_train1 = X_train_y_train[((X_train_y_train['CHAS'] <= upper_bound) & (X_train_y_train['CHAS'] >= lower_bound))]\n",
        "X_train2 = X_train1.loc[:, 'CRIM':'LSTAT']\n",
        "y_train2 = X_train1['isHighValue']\n",
        "\n",
        "# 학습, 검증용 데이터 분리\n",
        "from sklearn.model_selection import train_test_split\n",
        "X_tr, X_val, y_tr, y_val = train_test_split(X_train2, y_train2, test_size=0.3, random_state = 123)\n",
        "\n",
        "# 최소최대정규화\n",
        "from sklearn.preprocessing import MinMaxScaler\n",
        "\n",
        "scaler = MinMaxScaler()\n",
        "scaler.fit(X_tr)\n",
        "X_tr_scaled = scaler.transform(X_tr)\n",
        "X_val_scaled = scaler.transform(X_val)\n",
        "X_test_scaled = scaler.transform(X_test)\n",
        "\n",
        "# 분석모델 구축\n",
        "from sklearn.ensemble import RandomForestClassifier\n",
        "\n",
        "model_rfc = RandomForestClassifier(random_state = 123)\n",
        "model_rfc.fit(X_tr_scaled, y_tr)\n",
        "\n",
        "# 분석모형 평가\n",
        "from sklearn.metrics import classification_report\n",
        "\n",
        "y_pred = model_rfc.predict(X_val_scaled)\n",
        "#print(classification_report(y_val, y_pred, labels=[0,1]))\n",
        "\n",
        "from sklearn.metrics import roc_auc_score\n",
        "\n",
        "y_pred_proba = model_rfc.predict_proba(X_val_scaled)[:,1]\n",
        "#print(roc_auc_score(y_val, y_pred_proba))\n",
        "\n",
        "# 분석모형 적용\n",
        "pred = model_rfc.predict(X_test_scaled)\n",
        "\n",
        "# 결과값 제출\n",
        "pd.DataFrame({'isHighValue': pred}).to_csv('윤현정.csv', index=False)\n",
        "\n",
        "################################################\n",
        "\n",
        "# 답안 제출 참고\n",
        "# 아래 코드 예측변수와 이름을 개인별로 변경하여 활용\n",
        "# pd.DataFrame({'cust_id': X_test.cust_id, 'gender': pred}).to_csv('홍길동.csv', index=False)"
      ],
      "metadata": {
        "id": "HKcXH0AEoemB"
      },
      "id": "HKcXH0AEoemB",
      "execution_count": 5,
      "outputs": []
    }
  ],
  "metadata": {
    "kernelspec": {
      "display_name": "Python 3",
      "language": "python",
      "name": "python3"
    },
    "language_info": {
      "codemirror_mode": {
        "name": "ipython",
        "version": 3
      },
      "file_extension": ".py",
      "mimetype": "text/x-python",
      "name": "python",
      "nbconvert_exporter": "python",
      "pygments_lexer": "ipython3",
      "version": "3.8.8"
    },
    "colab": {
      "name": "3일차_과제_윤현정_v4.ipynb",
      "provenance": [],
      "collapsed_sections": [],
      "include_colab_link": true
    }
  },
  "nbformat": 4,
  "nbformat_minor": 5
}