{
  "nbformat": 4,
  "nbformat_minor": 0,
  "metadata": {
    "colab": {
      "name": "2주차 데이터분석기사 과제",
      "provenance": [],
      "collapsed_sections": [],
      "include_colab_link": true
    },
    "kernelspec": {
      "name": "python3",
      "display_name": "Python 3"
    },
    "language_info": {
      "name": "python"
    }
  },
  "cells": [
    {
      "cell_type": "markdown",
      "metadata": {
        "id": "view-in-github",
        "colab_type": "text"
      },
      "source": [
        "<a href=\"https://colab.research.google.com/github/teleyun/bigdata/blob/main/2%EC%A3%BC%EC%B0%A8_%EB%8D%B0%EC%9D%B4%ED%84%B0%EB%B6%84%EC%84%9D%EA%B8%B0%EC%82%AC_%EA%B3%BC%EC%A0%9C.ipynb\" target=\"_parent\"><img src=\"https://colab.research.google.com/assets/colab-badge.svg\" alt=\"Open In Colab\"/></a>"
      ]
    },
    {
      "cell_type": "markdown",
      "source": [
        "제출 : 5. 25(수) 12시 까지\n",
        "\n",
        "제출처 : desunny@naver.com"
      ],
      "metadata": {
        "id": "KxfuYj0INvBx"
      }
    },
    {
      "cell_type": "code",
      "source": [
        "!git clone https://github.com/AnalyticsKnight/yemoonsaBigdata/"
      ],
      "metadata": {
        "colab": {
          "base_uri": "https://localhost:8080/"
        },
        "id": "VHHqdFho5GQS",
        "outputId": "4bb1c7cf-b1e8-43a2-d8ad-f48ad37ba34c"
      },
      "execution_count": 4,
      "outputs": [
        {
          "output_type": "stream",
          "name": "stdout",
          "text": [
            "Cloning into 'yemoonsaBigdata'...\n",
            "remote: Enumerating objects: 462, done.\u001b[K\n",
            "remote: Counting objects: 100% (99/99), done.\u001b[K\n",
            "remote: Compressing objects: 100% (56/56), done.\u001b[K\n",
            "remote: Total 462 (delta 59), reused 43 (delta 43), pack-reused 363\u001b[K\n",
            "Receiving objects: 100% (462/462), 8.40 MiB | 12.10 MiB/s, done.\n",
            "Resolving deltas: 100% (244/244), done.\n"
          ]
        }
      ]
    },
    {
      "cell_type": "markdown",
      "source": [
        "#1.Iris 데이터 세트"
      ],
      "metadata": {
        "id": "5TqE-4SgXJ7W"
      }
    },
    {
      "cell_type": "code",
      "source": [
        "import pandas as pd\n",
        "data = pd.read_csv(\"./yemoonsaBigdata/datasets/Part2/iris.csv\")"
      ],
      "metadata": {
        "id": "lLWsbmpqmA5V"
      },
      "execution_count": null,
      "outputs": []
    },
    {
      "cell_type": "markdown",
      "source": [
        "##1) Iris 데이터 세트에서 species 변수 값별로 petal_width 상위 25% 값을 구한 후, 가장 큰 값과 가장 작은 값 사이의 차이를 계산하시오"
      ],
      "metadata": {
        "id": "3D-MumlakyvO"
      }
    },
    {
      "cell_type": "code",
      "source": [
        "data2 = data.groupby('species')[['petal_width']].quantile(0.25)\n",
        "print(\"변수별 'petal_width' 상위 25% 값\")\n",
        "print(data2)\n",
        "print('-' * 50)\n",
        "print('값 차이 : {}'.format(data2['petal_width'].max()-data2['petal_width'].min()))"
      ],
      "metadata": {
        "id": "Yl39rkP1YECB",
        "colab": {
          "base_uri": "https://localhost:8080/"
        },
        "outputId": "b3f6b886-79f9-4aeb-a735-92df40b551b5"
      },
      "execution_count": null,
      "outputs": [
        {
          "output_type": "stream",
          "name": "stdout",
          "text": [
            "변수별 'petal_width' 상위 25% 값\n",
            "            petal_width\n",
            "species                \n",
            "setosa              0.2\n",
            "versicolor          1.2\n",
            "virginica           1.8\n",
            "--------------------------------------------------\n",
            "값 차이 : 1.6\n"
          ]
        }
      ]
    },
    {
      "cell_type": "markdown",
      "source": [
        "##2) Iris 데이터 세트에서 sepal_length 변수의 전체 값들을 중복 없이 리스트로 만든 후, 오름차순으로 정렬했을 때 리스트의 10번째에 오는 숫자를 계산하시오."
      ],
      "metadata": {
        "id": "aikvAMIm4tH3"
      }
    },
    {
      "cell_type": "code",
      "source": [
        "sepal_length_list = list(set(data['sepal_length']))\n",
        "sepal_length_df = pd.DataFrame(sepal_length_list, columns = ['sepal_length'])\n",
        "print(\"10번째 값 :\", list(sepal_length_df['sepal_length'].sort_values())[9])\n"
      ],
      "metadata": {
        "id": "5v8oG6Kd0Zlg",
        "colab": {
          "base_uri": "https://localhost:8080/"
        },
        "outputId": "440f5c55-a4df-4aff-d44a-e3e7c7b99cce"
      },
      "execution_count": null,
      "outputs": [
        {
          "output_type": "stream",
          "name": "stdout",
          "text": [
            "10번째 값 : 5.2\n"
          ]
        }
      ]
    },
    {
      "cell_type": "markdown",
      "source": [
        "##3) Iris 데이터 세트를 sepal_width 변수 값으로 내림차순한 후 위에서부터 100개 행을 학습 데이터로 분리하고, 학습 데이터에서 sepal_width의 표준편차 값을 구한 후 50을 곱한 값을 계산하시오(최종 계산 값의 소수점 이하는 버린다.)"
      ],
      "metadata": {
        "id": "yuFqdiaS5JQM"
      }
    },
    {
      "cell_type": "code",
      "source": [
        "data_train = data.sort_values(by='sepal_width', ascending = False, ignore_index=True)[0:100]\n",
        "result = int(data_train['sepal_width'].agg(['std']) * 50)\n",
        "print('값 : ', result)"
      ],
      "metadata": {
        "id": "7RlkOohr08UO",
        "colab": {
          "base_uri": "https://localhost:8080/"
        },
        "outputId": "df5abdb4-fc4a-4cfd-ea4f-836eda7fbc8e"
      },
      "execution_count": null,
      "outputs": [
        {
          "output_type": "stream",
          "name": "stdout",
          "text": [
            "값 :  16\n"
          ]
        }
      ]
    },
    {
      "cell_type": "markdown",
      "source": [
        "##4) Iris 데이터 세트에서 species 변수 값별로 petal_length 상위 10개 행(큰 값)의 평균값을 구한 후, 평균값의 합을 계산하시오(최종 계산 값의 소수점 이하는 반올림한다.)"
      ],
      "metadata": {
        "id": "aa12FmQN627f"
      }
    },
    {
      "cell_type": "code",
      "source": [
        "data_10 = data.sort_values(by = 'petal_length', ascending = False).groupby('species').head(10)\n",
        "result = int(round(data_10.groupby('species')[['petal_length']].mean().sum(),0))\n",
        "\n",
        "print('변수값별 상위 10개 행의 평균값의 합 :{}'.format(result) )\n"
      ],
      "metadata": {
        "colab": {
          "base_uri": "https://localhost:8080/"
        },
        "id": "UR_qDV7scVii",
        "outputId": "f975dc5e-377e-4893-b1a0-115754c898b0"
      },
      "execution_count": null,
      "outputs": [
        {
          "output_type": "stream",
          "name": "stdout",
          "text": [
            "변수값별 상위 10개 행의 평균값의 합 :13\n"
          ]
        }
      ]
    },
    {
      "cell_type": "markdown",
      "source": [
        "##5) Iris 데이터 세트에서 sepal_length 변수가 이상치를 가지는 데이터 행 수를 계산하시오(단, 이상치 범위는 (평균＋2×표준편차) 이상이거나 (평균－2×표준편차) 이하이다.)"
      ],
      "metadata": {
        "id": "FYtO1JkT9fdK"
      }
    },
    {
      "cell_type": "code",
      "source": [
        "data_sepal_length = data[['sepal_length']]\n",
        "outlier_upper = data_sepal_length.mean() + data_sepal_length.std() * 2\n",
        "outlier_under = data_sepal_length.mean() - data_sepal_length.std() * 2\n",
        "outlier = (data_sepal_length[['sepal_length']] >= outlier_upper) | (data_sepal_length[['sepal_length']] <= outlier_under)\n",
        "print(\"이상치 개수 : {}개\".format(int(outlier.sum())))"
      ],
      "metadata": {
        "colab": {
          "base_uri": "https://localhost:8080/"
        },
        "id": "qAyDKwodm3NU",
        "outputId": "74ec9885-d277-42cc-fcff-72f308863b19"
      },
      "execution_count": null,
      "outputs": [
        {
          "output_type": "stream",
          "name": "stdout",
          "text": [
            "이상치 개수 : 6개\n"
          ]
        }
      ]
    },
    {
      "cell_type": "markdown",
      "source": [
        "#2. Wine 데이터 세트"
      ],
      "metadata": {
        "id": "Bp1go40oW7q1"
      }
    },
    {
      "cell_type": "code",
      "source": [
        "import pandas as pd\n",
        "data = pd.read_csv(\"./yemoonsaBigdata/datasets/Part2/wine.csv\")\n",
        "# data['class'].value_counts()\n",
        "# data.head(30)"
      ],
      "metadata": {
        "id": "R7Qt95tI5UbO",
        "colab": {
          "base_uri": "https://localhost:8080/",
          "height": 1000
        },
        "outputId": "ff93cc6b-01c3-4605-9fd3-6898180ff52b"
      },
      "execution_count": 5,
      "outputs": [
        {
          "output_type": "execute_result",
          "data": {
            "text/plain": [
              "    alcohol  malic_acid   ash  alcalinity_of_ash  magnesium  total_phenols  \\\n",
              "0     14.23        1.71  2.43               15.6      127.0           2.80   \n",
              "1     13.20        1.78  2.14               11.2      100.0           2.65   \n",
              "2     13.16        2.36  2.67               18.6      101.0            NaN   \n",
              "3     14.37        1.95  2.50               16.8      113.0           3.85   \n",
              "4     13.24        2.59  2.87               21.0      118.0           2.80   \n",
              "5     14.20        1.76  2.45               15.2      112.0           3.27   \n",
              "6     14.39        1.87  2.45               14.6       96.0           2.50   \n",
              "7     14.06        2.15  2.61               17.6      121.0           2.60   \n",
              "8     14.83        1.64  2.17               14.0       97.0           2.80   \n",
              "9     13.86        1.35  2.27               16.0       98.0           2.98   \n",
              "10    14.10        2.16  2.30               18.0      105.0           2.95   \n",
              "11    14.12        1.48  2.32               16.8       95.0           2.20   \n",
              "12    13.75        1.73  2.41               16.0       89.0           2.60   \n",
              "13    14.75        1.73  2.39               11.4       91.0           3.10   \n",
              "14    14.38        1.87  2.38               12.0      102.0           3.30   \n",
              "15    13.63        1.81  2.70               17.2      112.0           2.85   \n",
              "16    14.30        1.92  2.72               20.0      120.0           2.80   \n",
              "17    13.83        1.57  2.62               20.0      115.0           2.95   \n",
              "18    14.19        1.59  2.48               16.5      108.0           3.30   \n",
              "19    13.64        3.10  2.56               15.2      116.0           2.70   \n",
              "20    14.06        1.63  2.28               16.0      126.0           3.00   \n",
              "21    12.93        3.80  2.65               18.6      102.0           2.41   \n",
              "22    13.71        1.86  2.36               16.6      101.0           2.61   \n",
              "23    12.85        1.60  2.52               17.8       95.0           2.48   \n",
              "24    13.50        1.81  2.61               20.0       96.0           2.53   \n",
              "25    13.05        2.05  3.22               25.0      124.0           2.63   \n",
              "26    13.39        1.77  2.62               16.1       93.0           2.85   \n",
              "27    13.30        1.72  2.14               17.0       94.0           2.40   \n",
              "28    13.87        1.90  2.80               19.4      107.0           2.95   \n",
              "29    14.02        1.68  2.21               16.0       96.0           2.65   \n",
              "\n",
              "    flavanoids  nonflavanoid_phenols  proanthocyanins  color_intensity   hue  \\\n",
              "0         3.06                  0.28             2.29             5.64  1.04   \n",
              "1         2.76                  0.26             1.28             4.38  1.05   \n",
              "2         3.24                  0.30             2.81             5.68  1.03   \n",
              "3         3.49                  0.24             2.18             7.80  0.86   \n",
              "4         2.69                  0.39             1.82             4.32  1.04   \n",
              "5         3.39                  0.34             1.97             6.75  1.05   \n",
              "6         2.52                  0.30             1.98             5.25  1.02   \n",
              "7         2.51                  0.31             1.25             5.05  1.06   \n",
              "8         2.98                  0.29             1.98             5.20  1.08   \n",
              "9         3.15                  0.22             1.85             7.22  1.01   \n",
              "10        3.32                  0.22             2.38             5.75  1.25   \n",
              "11        2.43                  0.26             1.57             5.00  1.17   \n",
              "12        2.76                  0.29             1.81             5.60  1.15   \n",
              "13        3.69                  0.43             2.81             5.40  1.25   \n",
              "14        3.64                  0.29             2.96             7.50  1.20   \n",
              "15        2.91                  0.30             1.46             7.30  1.28   \n",
              "16        3.14                  0.33             1.97             6.20  1.07   \n",
              "17        3.40                  0.40             1.72             6.60  1.13   \n",
              "18        3.93                  0.32             1.86             8.70  1.23   \n",
              "19        3.03                  0.17             1.66             5.10  0.96   \n",
              "20        3.17                  0.24             2.10             5.65  1.09   \n",
              "21        2.41                  0.25             1.98             4.50  1.03   \n",
              "22        2.88                  0.27             1.69             3.80  1.11   \n",
              "23        2.37                  0.26             1.46             3.93  1.09   \n",
              "24        2.61                  0.28             1.66             3.52  1.12   \n",
              "25        2.68                  0.47             1.92             3.58  1.13   \n",
              "26        2.94                  0.34             1.45             4.80  0.92   \n",
              "27        2.19                  0.27             1.35             3.95  1.02   \n",
              "28        2.97                  0.37             1.76             4.50  1.25   \n",
              "29        2.33                  0.26             1.98             4.70  1.04   \n",
              "\n",
              "    od280/od315_of_diluted_wines  proline  class  \n",
              "0                           3.92   1065.0      0  \n",
              "1                           3.40   1050.0      0  \n",
              "2                           3.17   1185.0      0  \n",
              "3                           3.45   1480.0      0  \n",
              "4                           2.93    735.0      0  \n",
              "5                           2.85   1450.0      0  \n",
              "6                           3.58   1290.0      0  \n",
              "7                           3.58   1295.0      0  \n",
              "8                           2.85   1045.0      0  \n",
              "9                           3.55   1045.0      0  \n",
              "10                          3.17   1510.0      0  \n",
              "11                          2.82   1280.0      0  \n",
              "12                          2.90   1320.0      0  \n",
              "13                          2.73   1150.0      0  \n",
              "14                          3.00   1547.0      0  \n",
              "15                          2.88   1310.0      0  \n",
              "16                          2.65   1280.0      0  \n",
              "17                          2.57   1130.0      0  \n",
              "18                          2.82   1680.0      0  \n",
              "19                          3.36    845.0      0  \n",
              "20                          3.71    780.0      0  \n",
              "21                          3.52    770.0      0  \n",
              "22                          4.00   1035.0      0  \n",
              "23                          3.63   1015.0      0  \n",
              "24                          3.82    845.0      0  \n",
              "25                          3.20    830.0      0  \n",
              "26                          3.22   1195.0      0  \n",
              "27                          2.77   1285.0      0  \n",
              "28                          3.40    915.0      0  \n",
              "29                          3.59   1035.0      0  "
            ],
            "text/html": [
              "\n",
              "  <div id=\"df-29840e68-aae3-4c8e-853f-8b3de190f10c\">\n",
              "    <div class=\"colab-df-container\">\n",
              "      <div>\n",
              "<style scoped>\n",
              "    .dataframe tbody tr th:only-of-type {\n",
              "        vertical-align: middle;\n",
              "    }\n",
              "\n",
              "    .dataframe tbody tr th {\n",
              "        vertical-align: top;\n",
              "    }\n",
              "\n",
              "    .dataframe thead th {\n",
              "        text-align: right;\n",
              "    }\n",
              "</style>\n",
              "<table border=\"1\" class=\"dataframe\">\n",
              "  <thead>\n",
              "    <tr style=\"text-align: right;\">\n",
              "      <th></th>\n",
              "      <th>alcohol</th>\n",
              "      <th>malic_acid</th>\n",
              "      <th>ash</th>\n",
              "      <th>alcalinity_of_ash</th>\n",
              "      <th>magnesium</th>\n",
              "      <th>total_phenols</th>\n",
              "      <th>flavanoids</th>\n",
              "      <th>nonflavanoid_phenols</th>\n",
              "      <th>proanthocyanins</th>\n",
              "      <th>color_intensity</th>\n",
              "      <th>hue</th>\n",
              "      <th>od280/od315_of_diluted_wines</th>\n",
              "      <th>proline</th>\n",
              "      <th>class</th>\n",
              "    </tr>\n",
              "  </thead>\n",
              "  <tbody>\n",
              "    <tr>\n",
              "      <th>0</th>\n",
              "      <td>14.23</td>\n",
              "      <td>1.71</td>\n",
              "      <td>2.43</td>\n",
              "      <td>15.6</td>\n",
              "      <td>127.0</td>\n",
              "      <td>2.80</td>\n",
              "      <td>3.06</td>\n",
              "      <td>0.28</td>\n",
              "      <td>2.29</td>\n",
              "      <td>5.64</td>\n",
              "      <td>1.04</td>\n",
              "      <td>3.92</td>\n",
              "      <td>1065.0</td>\n",
              "      <td>0</td>\n",
              "    </tr>\n",
              "    <tr>\n",
              "      <th>1</th>\n",
              "      <td>13.20</td>\n",
              "      <td>1.78</td>\n",
              "      <td>2.14</td>\n",
              "      <td>11.2</td>\n",
              "      <td>100.0</td>\n",
              "      <td>2.65</td>\n",
              "      <td>2.76</td>\n",
              "      <td>0.26</td>\n",
              "      <td>1.28</td>\n",
              "      <td>4.38</td>\n",
              "      <td>1.05</td>\n",
              "      <td>3.40</td>\n",
              "      <td>1050.0</td>\n",
              "      <td>0</td>\n",
              "    </tr>\n",
              "    <tr>\n",
              "      <th>2</th>\n",
              "      <td>13.16</td>\n",
              "      <td>2.36</td>\n",
              "      <td>2.67</td>\n",
              "      <td>18.6</td>\n",
              "      <td>101.0</td>\n",
              "      <td>NaN</td>\n",
              "      <td>3.24</td>\n",
              "      <td>0.30</td>\n",
              "      <td>2.81</td>\n",
              "      <td>5.68</td>\n",
              "      <td>1.03</td>\n",
              "      <td>3.17</td>\n",
              "      <td>1185.0</td>\n",
              "      <td>0</td>\n",
              "    </tr>\n",
              "    <tr>\n",
              "      <th>3</th>\n",
              "      <td>14.37</td>\n",
              "      <td>1.95</td>\n",
              "      <td>2.50</td>\n",
              "      <td>16.8</td>\n",
              "      <td>113.0</td>\n",
              "      <td>3.85</td>\n",
              "      <td>3.49</td>\n",
              "      <td>0.24</td>\n",
              "      <td>2.18</td>\n",
              "      <td>7.80</td>\n",
              "      <td>0.86</td>\n",
              "      <td>3.45</td>\n",
              "      <td>1480.0</td>\n",
              "      <td>0</td>\n",
              "    </tr>\n",
              "    <tr>\n",
              "      <th>4</th>\n",
              "      <td>13.24</td>\n",
              "      <td>2.59</td>\n",
              "      <td>2.87</td>\n",
              "      <td>21.0</td>\n",
              "      <td>118.0</td>\n",
              "      <td>2.80</td>\n",
              "      <td>2.69</td>\n",
              "      <td>0.39</td>\n",
              "      <td>1.82</td>\n",
              "      <td>4.32</td>\n",
              "      <td>1.04</td>\n",
              "      <td>2.93</td>\n",
              "      <td>735.0</td>\n",
              "      <td>0</td>\n",
              "    </tr>\n",
              "    <tr>\n",
              "      <th>5</th>\n",
              "      <td>14.20</td>\n",
              "      <td>1.76</td>\n",
              "      <td>2.45</td>\n",
              "      <td>15.2</td>\n",
              "      <td>112.0</td>\n",
              "      <td>3.27</td>\n",
              "      <td>3.39</td>\n",
              "      <td>0.34</td>\n",
              "      <td>1.97</td>\n",
              "      <td>6.75</td>\n",
              "      <td>1.05</td>\n",
              "      <td>2.85</td>\n",
              "      <td>1450.0</td>\n",
              "      <td>0</td>\n",
              "    </tr>\n",
              "    <tr>\n",
              "      <th>6</th>\n",
              "      <td>14.39</td>\n",
              "      <td>1.87</td>\n",
              "      <td>2.45</td>\n",
              "      <td>14.6</td>\n",
              "      <td>96.0</td>\n",
              "      <td>2.50</td>\n",
              "      <td>2.52</td>\n",
              "      <td>0.30</td>\n",
              "      <td>1.98</td>\n",
              "      <td>5.25</td>\n",
              "      <td>1.02</td>\n",
              "      <td>3.58</td>\n",
              "      <td>1290.0</td>\n",
              "      <td>0</td>\n",
              "    </tr>\n",
              "    <tr>\n",
              "      <th>7</th>\n",
              "      <td>14.06</td>\n",
              "      <td>2.15</td>\n",
              "      <td>2.61</td>\n",
              "      <td>17.6</td>\n",
              "      <td>121.0</td>\n",
              "      <td>2.60</td>\n",
              "      <td>2.51</td>\n",
              "      <td>0.31</td>\n",
              "      <td>1.25</td>\n",
              "      <td>5.05</td>\n",
              "      <td>1.06</td>\n",
              "      <td>3.58</td>\n",
              "      <td>1295.0</td>\n",
              "      <td>0</td>\n",
              "    </tr>\n",
              "    <tr>\n",
              "      <th>8</th>\n",
              "      <td>14.83</td>\n",
              "      <td>1.64</td>\n",
              "      <td>2.17</td>\n",
              "      <td>14.0</td>\n",
              "      <td>97.0</td>\n",
              "      <td>2.80</td>\n",
              "      <td>2.98</td>\n",
              "      <td>0.29</td>\n",
              "      <td>1.98</td>\n",
              "      <td>5.20</td>\n",
              "      <td>1.08</td>\n",
              "      <td>2.85</td>\n",
              "      <td>1045.0</td>\n",
              "      <td>0</td>\n",
              "    </tr>\n",
              "    <tr>\n",
              "      <th>9</th>\n",
              "      <td>13.86</td>\n",
              "      <td>1.35</td>\n",
              "      <td>2.27</td>\n",
              "      <td>16.0</td>\n",
              "      <td>98.0</td>\n",
              "      <td>2.98</td>\n",
              "      <td>3.15</td>\n",
              "      <td>0.22</td>\n",
              "      <td>1.85</td>\n",
              "      <td>7.22</td>\n",
              "      <td>1.01</td>\n",
              "      <td>3.55</td>\n",
              "      <td>1045.0</td>\n",
              "      <td>0</td>\n",
              "    </tr>\n",
              "    <tr>\n",
              "      <th>10</th>\n",
              "      <td>14.10</td>\n",
              "      <td>2.16</td>\n",
              "      <td>2.30</td>\n",
              "      <td>18.0</td>\n",
              "      <td>105.0</td>\n",
              "      <td>2.95</td>\n",
              "      <td>3.32</td>\n",
              "      <td>0.22</td>\n",
              "      <td>2.38</td>\n",
              "      <td>5.75</td>\n",
              "      <td>1.25</td>\n",
              "      <td>3.17</td>\n",
              "      <td>1510.0</td>\n",
              "      <td>0</td>\n",
              "    </tr>\n",
              "    <tr>\n",
              "      <th>11</th>\n",
              "      <td>14.12</td>\n",
              "      <td>1.48</td>\n",
              "      <td>2.32</td>\n",
              "      <td>16.8</td>\n",
              "      <td>95.0</td>\n",
              "      <td>2.20</td>\n",
              "      <td>2.43</td>\n",
              "      <td>0.26</td>\n",
              "      <td>1.57</td>\n",
              "      <td>5.00</td>\n",
              "      <td>1.17</td>\n",
              "      <td>2.82</td>\n",
              "      <td>1280.0</td>\n",
              "      <td>0</td>\n",
              "    </tr>\n",
              "    <tr>\n",
              "      <th>12</th>\n",
              "      <td>13.75</td>\n",
              "      <td>1.73</td>\n",
              "      <td>2.41</td>\n",
              "      <td>16.0</td>\n",
              "      <td>89.0</td>\n",
              "      <td>2.60</td>\n",
              "      <td>2.76</td>\n",
              "      <td>0.29</td>\n",
              "      <td>1.81</td>\n",
              "      <td>5.60</td>\n",
              "      <td>1.15</td>\n",
              "      <td>2.90</td>\n",
              "      <td>1320.0</td>\n",
              "      <td>0</td>\n",
              "    </tr>\n",
              "    <tr>\n",
              "      <th>13</th>\n",
              "      <td>14.75</td>\n",
              "      <td>1.73</td>\n",
              "      <td>2.39</td>\n",
              "      <td>11.4</td>\n",
              "      <td>91.0</td>\n",
              "      <td>3.10</td>\n",
              "      <td>3.69</td>\n",
              "      <td>0.43</td>\n",
              "      <td>2.81</td>\n",
              "      <td>5.40</td>\n",
              "      <td>1.25</td>\n",
              "      <td>2.73</td>\n",
              "      <td>1150.0</td>\n",
              "      <td>0</td>\n",
              "    </tr>\n",
              "    <tr>\n",
              "      <th>14</th>\n",
              "      <td>14.38</td>\n",
              "      <td>1.87</td>\n",
              "      <td>2.38</td>\n",
              "      <td>12.0</td>\n",
              "      <td>102.0</td>\n",
              "      <td>3.30</td>\n",
              "      <td>3.64</td>\n",
              "      <td>0.29</td>\n",
              "      <td>2.96</td>\n",
              "      <td>7.50</td>\n",
              "      <td>1.20</td>\n",
              "      <td>3.00</td>\n",
              "      <td>1547.0</td>\n",
              "      <td>0</td>\n",
              "    </tr>\n",
              "    <tr>\n",
              "      <th>15</th>\n",
              "      <td>13.63</td>\n",
              "      <td>1.81</td>\n",
              "      <td>2.70</td>\n",
              "      <td>17.2</td>\n",
              "      <td>112.0</td>\n",
              "      <td>2.85</td>\n",
              "      <td>2.91</td>\n",
              "      <td>0.30</td>\n",
              "      <td>1.46</td>\n",
              "      <td>7.30</td>\n",
              "      <td>1.28</td>\n",
              "      <td>2.88</td>\n",
              "      <td>1310.0</td>\n",
              "      <td>0</td>\n",
              "    </tr>\n",
              "    <tr>\n",
              "      <th>16</th>\n",
              "      <td>14.30</td>\n",
              "      <td>1.92</td>\n",
              "      <td>2.72</td>\n",
              "      <td>20.0</td>\n",
              "      <td>120.0</td>\n",
              "      <td>2.80</td>\n",
              "      <td>3.14</td>\n",
              "      <td>0.33</td>\n",
              "      <td>1.97</td>\n",
              "      <td>6.20</td>\n",
              "      <td>1.07</td>\n",
              "      <td>2.65</td>\n",
              "      <td>1280.0</td>\n",
              "      <td>0</td>\n",
              "    </tr>\n",
              "    <tr>\n",
              "      <th>17</th>\n",
              "      <td>13.83</td>\n",
              "      <td>1.57</td>\n",
              "      <td>2.62</td>\n",
              "      <td>20.0</td>\n",
              "      <td>115.0</td>\n",
              "      <td>2.95</td>\n",
              "      <td>3.40</td>\n",
              "      <td>0.40</td>\n",
              "      <td>1.72</td>\n",
              "      <td>6.60</td>\n",
              "      <td>1.13</td>\n",
              "      <td>2.57</td>\n",
              "      <td>1130.0</td>\n",
              "      <td>0</td>\n",
              "    </tr>\n",
              "    <tr>\n",
              "      <th>18</th>\n",
              "      <td>14.19</td>\n",
              "      <td>1.59</td>\n",
              "      <td>2.48</td>\n",
              "      <td>16.5</td>\n",
              "      <td>108.0</td>\n",
              "      <td>3.30</td>\n",
              "      <td>3.93</td>\n",
              "      <td>0.32</td>\n",
              "      <td>1.86</td>\n",
              "      <td>8.70</td>\n",
              "      <td>1.23</td>\n",
              "      <td>2.82</td>\n",
              "      <td>1680.0</td>\n",
              "      <td>0</td>\n",
              "    </tr>\n",
              "    <tr>\n",
              "      <th>19</th>\n",
              "      <td>13.64</td>\n",
              "      <td>3.10</td>\n",
              "      <td>2.56</td>\n",
              "      <td>15.2</td>\n",
              "      <td>116.0</td>\n",
              "      <td>2.70</td>\n",
              "      <td>3.03</td>\n",
              "      <td>0.17</td>\n",
              "      <td>1.66</td>\n",
              "      <td>5.10</td>\n",
              "      <td>0.96</td>\n",
              "      <td>3.36</td>\n",
              "      <td>845.0</td>\n",
              "      <td>0</td>\n",
              "    </tr>\n",
              "    <tr>\n",
              "      <th>20</th>\n",
              "      <td>14.06</td>\n",
              "      <td>1.63</td>\n",
              "      <td>2.28</td>\n",
              "      <td>16.0</td>\n",
              "      <td>126.0</td>\n",
              "      <td>3.00</td>\n",
              "      <td>3.17</td>\n",
              "      <td>0.24</td>\n",
              "      <td>2.10</td>\n",
              "      <td>5.65</td>\n",
              "      <td>1.09</td>\n",
              "      <td>3.71</td>\n",
              "      <td>780.0</td>\n",
              "      <td>0</td>\n",
              "    </tr>\n",
              "    <tr>\n",
              "      <th>21</th>\n",
              "      <td>12.93</td>\n",
              "      <td>3.80</td>\n",
              "      <td>2.65</td>\n",
              "      <td>18.6</td>\n",
              "      <td>102.0</td>\n",
              "      <td>2.41</td>\n",
              "      <td>2.41</td>\n",
              "      <td>0.25</td>\n",
              "      <td>1.98</td>\n",
              "      <td>4.50</td>\n",
              "      <td>1.03</td>\n",
              "      <td>3.52</td>\n",
              "      <td>770.0</td>\n",
              "      <td>0</td>\n",
              "    </tr>\n",
              "    <tr>\n",
              "      <th>22</th>\n",
              "      <td>13.71</td>\n",
              "      <td>1.86</td>\n",
              "      <td>2.36</td>\n",
              "      <td>16.6</td>\n",
              "      <td>101.0</td>\n",
              "      <td>2.61</td>\n",
              "      <td>2.88</td>\n",
              "      <td>0.27</td>\n",
              "      <td>1.69</td>\n",
              "      <td>3.80</td>\n",
              "      <td>1.11</td>\n",
              "      <td>4.00</td>\n",
              "      <td>1035.0</td>\n",
              "      <td>0</td>\n",
              "    </tr>\n",
              "    <tr>\n",
              "      <th>23</th>\n",
              "      <td>12.85</td>\n",
              "      <td>1.60</td>\n",
              "      <td>2.52</td>\n",
              "      <td>17.8</td>\n",
              "      <td>95.0</td>\n",
              "      <td>2.48</td>\n",
              "      <td>2.37</td>\n",
              "      <td>0.26</td>\n",
              "      <td>1.46</td>\n",
              "      <td>3.93</td>\n",
              "      <td>1.09</td>\n",
              "      <td>3.63</td>\n",
              "      <td>1015.0</td>\n",
              "      <td>0</td>\n",
              "    </tr>\n",
              "    <tr>\n",
              "      <th>24</th>\n",
              "      <td>13.50</td>\n",
              "      <td>1.81</td>\n",
              "      <td>2.61</td>\n",
              "      <td>20.0</td>\n",
              "      <td>96.0</td>\n",
              "      <td>2.53</td>\n",
              "      <td>2.61</td>\n",
              "      <td>0.28</td>\n",
              "      <td>1.66</td>\n",
              "      <td>3.52</td>\n",
              "      <td>1.12</td>\n",
              "      <td>3.82</td>\n",
              "      <td>845.0</td>\n",
              "      <td>0</td>\n",
              "    </tr>\n",
              "    <tr>\n",
              "      <th>25</th>\n",
              "      <td>13.05</td>\n",
              "      <td>2.05</td>\n",
              "      <td>3.22</td>\n",
              "      <td>25.0</td>\n",
              "      <td>124.0</td>\n",
              "      <td>2.63</td>\n",
              "      <td>2.68</td>\n",
              "      <td>0.47</td>\n",
              "      <td>1.92</td>\n",
              "      <td>3.58</td>\n",
              "      <td>1.13</td>\n",
              "      <td>3.20</td>\n",
              "      <td>830.0</td>\n",
              "      <td>0</td>\n",
              "    </tr>\n",
              "    <tr>\n",
              "      <th>26</th>\n",
              "      <td>13.39</td>\n",
              "      <td>1.77</td>\n",
              "      <td>2.62</td>\n",
              "      <td>16.1</td>\n",
              "      <td>93.0</td>\n",
              "      <td>2.85</td>\n",
              "      <td>2.94</td>\n",
              "      <td>0.34</td>\n",
              "      <td>1.45</td>\n",
              "      <td>4.80</td>\n",
              "      <td>0.92</td>\n",
              "      <td>3.22</td>\n",
              "      <td>1195.0</td>\n",
              "      <td>0</td>\n",
              "    </tr>\n",
              "    <tr>\n",
              "      <th>27</th>\n",
              "      <td>13.30</td>\n",
              "      <td>1.72</td>\n",
              "      <td>2.14</td>\n",
              "      <td>17.0</td>\n",
              "      <td>94.0</td>\n",
              "      <td>2.40</td>\n",
              "      <td>2.19</td>\n",
              "      <td>0.27</td>\n",
              "      <td>1.35</td>\n",
              "      <td>3.95</td>\n",
              "      <td>1.02</td>\n",
              "      <td>2.77</td>\n",
              "      <td>1285.0</td>\n",
              "      <td>0</td>\n",
              "    </tr>\n",
              "    <tr>\n",
              "      <th>28</th>\n",
              "      <td>13.87</td>\n",
              "      <td>1.90</td>\n",
              "      <td>2.80</td>\n",
              "      <td>19.4</td>\n",
              "      <td>107.0</td>\n",
              "      <td>2.95</td>\n",
              "      <td>2.97</td>\n",
              "      <td>0.37</td>\n",
              "      <td>1.76</td>\n",
              "      <td>4.50</td>\n",
              "      <td>1.25</td>\n",
              "      <td>3.40</td>\n",
              "      <td>915.0</td>\n",
              "      <td>0</td>\n",
              "    </tr>\n",
              "    <tr>\n",
              "      <th>29</th>\n",
              "      <td>14.02</td>\n",
              "      <td>1.68</td>\n",
              "      <td>2.21</td>\n",
              "      <td>16.0</td>\n",
              "      <td>96.0</td>\n",
              "      <td>2.65</td>\n",
              "      <td>2.33</td>\n",
              "      <td>0.26</td>\n",
              "      <td>1.98</td>\n",
              "      <td>4.70</td>\n",
              "      <td>1.04</td>\n",
              "      <td>3.59</td>\n",
              "      <td>1035.0</td>\n",
              "      <td>0</td>\n",
              "    </tr>\n",
              "  </tbody>\n",
              "</table>\n",
              "</div>\n",
              "      <button class=\"colab-df-convert\" onclick=\"convertToInteractive('df-29840e68-aae3-4c8e-853f-8b3de190f10c')\"\n",
              "              title=\"Convert this dataframe to an interactive table.\"\n",
              "              style=\"display:none;\">\n",
              "        \n",
              "  <svg xmlns=\"http://www.w3.org/2000/svg\" height=\"24px\"viewBox=\"0 0 24 24\"\n",
              "       width=\"24px\">\n",
              "    <path d=\"M0 0h24v24H0V0z\" fill=\"none\"/>\n",
              "    <path d=\"M18.56 5.44l.94 2.06.94-2.06 2.06-.94-2.06-.94-.94-2.06-.94 2.06-2.06.94zm-11 1L8.5 8.5l.94-2.06 2.06-.94-2.06-.94L8.5 2.5l-.94 2.06-2.06.94zm10 10l.94 2.06.94-2.06 2.06-.94-2.06-.94-.94-2.06-.94 2.06-2.06.94z\"/><path d=\"M17.41 7.96l-1.37-1.37c-.4-.4-.92-.59-1.43-.59-.52 0-1.04.2-1.43.59L10.3 9.45l-7.72 7.72c-.78.78-.78 2.05 0 2.83L4 21.41c.39.39.9.59 1.41.59.51 0 1.02-.2 1.41-.59l7.78-7.78 2.81-2.81c.8-.78.8-2.07 0-2.86zM5.41 20L4 18.59l7.72-7.72 1.47 1.35L5.41 20z\"/>\n",
              "  </svg>\n",
              "      </button>\n",
              "      \n",
              "  <style>\n",
              "    .colab-df-container {\n",
              "      display:flex;\n",
              "      flex-wrap:wrap;\n",
              "      gap: 12px;\n",
              "    }\n",
              "\n",
              "    .colab-df-convert {\n",
              "      background-color: #E8F0FE;\n",
              "      border: none;\n",
              "      border-radius: 50%;\n",
              "      cursor: pointer;\n",
              "      display: none;\n",
              "      fill: #1967D2;\n",
              "      height: 32px;\n",
              "      padding: 0 0 0 0;\n",
              "      width: 32px;\n",
              "    }\n",
              "\n",
              "    .colab-df-convert:hover {\n",
              "      background-color: #E2EBFA;\n",
              "      box-shadow: 0px 1px 2px rgba(60, 64, 67, 0.3), 0px 1px 3px 1px rgba(60, 64, 67, 0.15);\n",
              "      fill: #174EA6;\n",
              "    }\n",
              "\n",
              "    [theme=dark] .colab-df-convert {\n",
              "      background-color: #3B4455;\n",
              "      fill: #D2E3FC;\n",
              "    }\n",
              "\n",
              "    [theme=dark] .colab-df-convert:hover {\n",
              "      background-color: #434B5C;\n",
              "      box-shadow: 0px 1px 3px 1px rgba(0, 0, 0, 0.15);\n",
              "      filter: drop-shadow(0px 1px 2px rgba(0, 0, 0, 0.3));\n",
              "      fill: #FFFFFF;\n",
              "    }\n",
              "  </style>\n",
              "\n",
              "      <script>\n",
              "        const buttonEl =\n",
              "          document.querySelector('#df-29840e68-aae3-4c8e-853f-8b3de190f10c button.colab-df-convert');\n",
              "        buttonEl.style.display =\n",
              "          google.colab.kernel.accessAllowed ? 'block' : 'none';\n",
              "\n",
              "        async function convertToInteractive(key) {\n",
              "          const element = document.querySelector('#df-29840e68-aae3-4c8e-853f-8b3de190f10c');\n",
              "          const dataTable =\n",
              "            await google.colab.kernel.invokeFunction('convertToInteractive',\n",
              "                                                     [key], {});\n",
              "          if (!dataTable) return;\n",
              "\n",
              "          const docLinkHtml = 'Like what you see? Visit the ' +\n",
              "            '<a target=\"_blank\" href=https://colab.research.google.com/notebooks/data_table.ipynb>data table notebook</a>'\n",
              "            + ' to learn more about interactive tables.';\n",
              "          element.innerHTML = '';\n",
              "          dataTable['output_type'] = 'display_data';\n",
              "          await google.colab.output.renderOutput(dataTable, element);\n",
              "          const docLink = document.createElement('div');\n",
              "          docLink.innerHTML = docLinkHtml;\n",
              "          element.appendChild(docLink);\n",
              "        }\n",
              "      </script>\n",
              "    </div>\n",
              "  </div>\n",
              "  "
            ]
          },
          "metadata": {},
          "execution_count": 5
        }
      ]
    },
    {
      "cell_type": "markdown",
      "source": [
        "##1) Wine 데이터 세트에서 total_phenols 결측치를 제거하고 alcalinity_of_ash 변수의 결측치는 중앙값으로 대체한 후, alcalinity_of_ash 평균값을 계산하시오(최종 계산 값의 소수점 이하는 버린다.)."
      ],
      "metadata": {
        "id": "2G78SMGcPAco"
      }
    },
    {
      "cell_type": "code",
      "source": [
        "data1 = data[data['total_phenols'].notnull()]\n",
        "data1 = data1.copy()\n",
        "data1[data1['alcalinity_of_ash'].isnull()] = data1['alcalinity_of_ash'].median()\n",
        "print(\"평균값 :{}\".format(int(data1['alcalinity_of_ash'].mean())))"
      ],
      "metadata": {
        "id": "Z1NLxFxENNtT",
        "colab": {
          "base_uri": "https://localhost:8080/"
        },
        "outputId": "d149abd7-eebd-4aaa-8fe7-a0e7d4b5e283"
      },
      "execution_count": 271,
      "outputs": [
        {
          "output_type": "stream",
          "name": "stdout",
          "text": [
            "평균값 :19\n"
          ]
        }
      ]
    },
    {
      "cell_type": "markdown",
      "source": [
        "##2) Wine 데이터 세트에서 alcohol 값이 alcohol 평균 값 이상이고, color_intensity 값이 color_intensity 평균 값 이상인 데이터만 남겼을 때, 가장 많은 class 값을 구하시오"
      ],
      "metadata": {
        "id": "Fb98ZU5QXv4s"
      }
    },
    {
      "cell_type": "code",
      "source": [
        "data1 = data[(data['alcohol'] >= data['alcohol'].mean()) & (data['color_intensity'] >= data['color_intensity'].mean())]\n",
        "result = data1.groupby('class')['class'].count().max()\n",
        "print(\"가장 많은 class 값 : {}\".format(result))"
      ],
      "metadata": {
        "colab": {
          "base_uri": "https://localhost:8080/"
        },
        "id": "rGxWi0scu3EK",
        "outputId": "44c8c2b0-d426-4765-977c-6c613eace24b"
      },
      "execution_count": null,
      "outputs": [
        {
          "output_type": "stream",
          "name": "stdout",
          "text": [
            "가장 많은 class 값 : 37\n"
          ]
        }
      ]
    },
    {
      "cell_type": "markdown",
      "source": [
        "##3) Wine 데이터 세트에서 class 1에 해당하는 데이터의 ash 평균값과 Wine 데이터 세트의 모든 결측치를 제거한 후의 ash 값의 평균값의 차이의 절댓값을 계산하시오(최종 계산 값의 소수점 아래 4번째 자리에서 반올림한다.)"
      ],
      "metadata": {
        "id": "k37JuW21Xw7w"
      }
    },
    {
      "cell_type": "code",
      "source": [
        "ash_mean = data[data['class'] == 1]['ash'].mean()\n",
        "ash_dropna_mean = data.dropna()['ash'].mean()\n",
        "print(\"절댓값 : %.3f\" % round(abs(ash_mean - ash_dropna_mean),3))"
      ],
      "metadata": {
        "id": "7uTd3MjUi5LR",
        "colab": {
          "base_uri": "https://localhost:8080/"
        },
        "outputId": "8cb48149-de61-4912-8674-7f5351ed7ce4"
      },
      "execution_count": null,
      "outputs": [
        {
          "output_type": "stream",
          "name": "stdout",
          "text": [
            "절댓값 : 0.120\n"
          ]
        }
      ]
    },
    {
      "cell_type": "markdown",
      "source": [
        "##4) Wine 데이터 세트에서 alcohol 변수의 상위에서 20번째 값(alcohol을 오름차순 정렬했을 때 20번째에 위치한 값) 으로 상위 20개의 값을 변환한 후, proanthocyanins가 2 이하인 데이터를 추출하여 alcohol의 평균값을 계산하시오(최종 계산 값의 소수점 아래 3번째 자리에서 반올림한다.)."
      ],
      "metadata": {
        "id": "eP2JbUbYXx6k"
      }
    },
    {
      "cell_type": "code",
      "source": [
        "data_alcohol = data.sort_values('alcohol', ignore_index = True)\n",
        "data_alcohol.loc[0:20, 'alcohol'] = data_alcohol.loc[20, 'alcohol']\n",
        "result = round(data_alcohol[data_alcohol['proanthocyanins'] <= 2]['alcohol'].mean(),2)\n",
        "print(\"평균값 : {}\".format(result))"
      ],
      "metadata": {
        "id": "trn_gx-oXxjY",
        "colab": {
          "base_uri": "https://localhost:8080/"
        },
        "outputId": "54263ddc-5770-4e1e-d7b3-09fbbb6b4e46"
      },
      "execution_count": 55,
      "outputs": [
        {
          "output_type": "stream",
          "name": "stdout",
          "text": [
            "평균값 : 12.97\n"
          ]
        }
      ]
    },
    {
      "cell_type": "markdown",
      "source": [
        "##5) Wine 데이터 세트에서 class 1에 해당하는 데이터의 proline 변수의 제 3사분위수와 제 1사분위수 차를 구하고, class 2에 해당하는 데이터의 proline 변수의 제 3사분위수와 제 1사분위수 차를 구하여 두 값의 차이의 절댓값을 계산하시오"
      ],
      "metadata": {
        "id": "NI56d5yVXzi_"
      }
    },
    {
      "cell_type": "code",
      "source": [
        "data_class1_25 = data[data['class'] == 1]['proline'].quantile(0.25)\n",
        "data_class1_75 = data[data['class'] == 1]['proline'].quantile(0.75)\n",
        "data_class2_25 = data[data['class'] == 2]['proline'].quantile(0.25)\n",
        "data_class2_75 = data[data['class'] == 2]['proline'].quantile(0.75)\n",
        "\n",
        "result = abs(( data_class1_75 - data_class1_25) - (data_class2_75 - data_class2_25 ))\n",
        "print(\"두 값 차이의 절대값 : {}\".format(result))"
      ],
      "metadata": {
        "colab": {
          "base_uri": "https://localhost:8080/"
        },
        "id": "KiqUG45P6MYx",
        "outputId": "bf346170-3baf-46f5-cafe-917e165f265c"
      },
      "execution_count": 83,
      "outputs": [
        {
          "output_type": "stream",
          "name": "stdout",
          "text": [
            "두 값 차이의 절대값 : 68.5\n"
          ]
        }
      ]
    }
  ]
}