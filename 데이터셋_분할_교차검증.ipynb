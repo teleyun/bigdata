{
 "cells": [
  {
   "cell_type": "code",
   "execution_count": 60,
   "id": "0658917b",
   "metadata": {},
   "outputs": [
    {
     "name": "stdout",
     "output_type": "stream",
     "text": [
      "(158, 13)\n",
      "(53, 13)\n",
      "5개 테스트 셋 정확도 : [0.71875    0.6875     0.8125     0.58064516 0.80645161]\n",
      "정확도 평균 : 0.7211693548387096\n",
      "5개 폴드의 정확도 :  [0.71875    0.6875     0.625      0.70967742 0.77419355]\n",
      "정확도 평균 : 0.7030241935483872\n",
      "교차검증의 정확도 :  [0.73417722 0.69620253 0.70886076 0.73417722 0.65822785 0.67088608\n",
      " 0.72151899 0.65822785 0.69620253 0.70886076]\n"
     ]
    },
    {
     "data": {
      "text/plain": [
       "0.6792452830188679"
      ]
     },
     "execution_count": 60,
     "metadata": {},
     "output_type": "execute_result"
    }
   ],
   "source": [
    "import warnings\n",
    "warnings.filterwarnings('ignore')\n",
    "\n",
    "import pandas as pd\n",
    "data = pd.read_csv(\"Fvote.csv\", encoding='utf-8')\n",
    "data.head()\n",
    "\n",
    "X = data.loc[:,'gender_female':'score_intention']\n",
    "y = data[['vote']]\n",
    "\n",
    "# from sklearn import *\n",
    "# dir(sklearn.model_selection)\n",
    "\n",
    "from sklearn.model_selection import train_test_split\n",
    "X_train, X_test, y_train, y_test = train_test_split(X, y, stratify=y, random_state=42)\n",
    "\n",
    "# print(X_train.mean())\n",
    "# print(X_test.mean())\n",
    "\n",
    "print(X_train.shape)\n",
    "print(X_test.shape)\n",
    "\n",
    "from sklearn.linear_model import LogisticRegression\n",
    "model = LogisticRegression()\n",
    "\n",
    "# 랜덤 없는 교차 검증 : cross_val_score\n",
    "from sklearn.model_selection import cross_val_score\n",
    "scores = cross_val_score(model, X_train, y_train, cv=5)\n",
    "print(\"5개 테스트 셋 정확도 :\", scores)\n",
    "print(\"정확도 평균 :\", scores.mean())\n",
    "\n",
    "# 랜덤 있는 교차 검증 : K-fold\n",
    "from sklearn.model_selection import KFold\n",
    "kfold = KFold(n_splits = 5, shuffle = True, random_state = 42)\n",
    "scores1 = cross_val_score(model, X_train, y_train, cv=kfold)\n",
    "print(\"5개 폴드의 정확도 : \", scores1)\n",
    "print(\"정확도 평균 :\", scores1.mean())\n",
    "\n",
    "# 임의분할 교차검증\n",
    "from sklearn.model_selection import ShuffleSplit\n",
    "shuffle_split = ShuffleSplit(test_size = 0.5, train_size = 0.5, random_state = 42)\n",
    "\n",
    "scores2 = cross_val_score(model, X_train, y_train, cv = shuffle_split)\n",
    "print(\"교차검증의 정확도 : \", scores2)\n",
    "\n",
    "model.fit(X_train, y_train)\n",
    "model.score(X_test, y_test)"
   ]
  },
  {
   "cell_type": "code",
   "execution_count": null,
   "id": "2166a2e1",
   "metadata": {},
   "outputs": [],
   "source": []
  }
 ],
 "metadata": {
  "kernelspec": {
   "display_name": "Python 3 (ipykernel)",
   "language": "python",
   "name": "python3"
  },
  "language_info": {
   "codemirror_mode": {
    "name": "ipython",
    "version": 3
   },
   "file_extension": ".py",
   "mimetype": "text/x-python",
   "name": "python",
   "nbconvert_exporter": "python",
   "pygments_lexer": "ipython3",
   "version": "3.10.0"
  }
 },
 "nbformat": 4,
 "nbformat_minor": 5
}
