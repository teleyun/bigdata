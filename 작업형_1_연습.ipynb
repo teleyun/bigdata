{
 "cells": [
  {
   "cell_type": "code",
   "execution_count": 30,
   "id": "23af38c8",
   "metadata": {},
   "outputs": [
    {
     "name": "stdout",
     "output_type": "stream",
     "text": [
      "['장삐쭈' '총몇명' '파뿌리' '짤툰' '런닝맨 - 스브스 공식 채널' '엠뚜루마뚜루 : MBC 공식 종합 채널' 'SPOTV'\n",
      " '채널 십오야' '이과장' 'BANGTANTV']\n"
     ]
    }
   ],
   "source": [
    "import pandas as pd\n",
    "df = pd.read_csv('https://raw.githubusercontent.com/Datamanim/datarepo/main/youtube/youtube.csv', encoding = 'utf-8')\n",
    "df.head()\n",
    "\n",
    "answer =df.loc[df.channelId.isin(df.channelId.value_counts().head(10).index)].channelTitle.unique()\n",
    "print(answer)"
   ]
  },
  {
   "cell_type": "code",
   "execution_count": 90,
   "id": "456c8ca1",
   "metadata": {},
   "outputs": [
    {
     "name": "stdout",
     "output_type": "stream",
     "text": [
      "['핫도그TV', 'ASMR 애정TV', '하얀트리HayanTree', '양팡 YangPang', '철구형 (CHULTUBE)', '왜냐맨하우스', '(MUTUBE)와꾸대장봉준', '오메킴TV', '육지담', 'MapleStory_KR', 'ROAD FIGHTING CHAMPIONSHIP', '사나이 김기훈', '나혼자산다 STUDIO', 'Gen.G esports']\n"
     ]
    }
   ],
   "source": [
    "df_dislikes = df[df['dislikes'] > df['likes']]\n",
    "\n",
    "answer = list(df_dislikes.channelTitle.unique())\n",
    "print(answer)"
   ]
  },
  {
   "cell_type": "code",
   "execution_count": 28,
   "id": "1698b02e",
   "metadata": {},
   "outputs": [
    {
     "data": {
      "text/plain": [
       "71"
      ]
     },
     "execution_count": 28,
     "metadata": {},
     "output_type": "execute_result"
    }
   ],
   "source": [
    "import pandas as pd\n",
    "df = pd.read_csv('https://raw.githubusercontent.com/Datamanim/datarepo/main/youtube/youtube.csv', encoding = 'utf-8')\n",
    "df.head()\n",
    "\n",
    "df_change = df[['channelTitle', 'channelId']].drop_duplicates()\n",
    "\n",
    "df_count = df_change['channelId'].value_counts()\n",
    "\n",
    "answer = df_count[df_count > 1]\n",
    "\n",
    "len(answer)"
   ]
  },
  {
   "cell_type": "code",
   "execution_count": 38,
   "id": "81a36c42",
   "metadata": {},
   "outputs": [
    {
     "name": "stdout",
     "output_type": "stream",
     "text": [
      "24\n"
     ]
    }
   ],
   "source": [
    "df['trending_date2'] = pd.to_datetime(df['trending_date2'])\n",
    "df_sunday = df.loc[df['trending_date2'].dt.day_name() == 'Sunday']\n",
    "answer = df_sunday['categoryId'].value_counts().index[0]\n",
    "print(answer)"
   ]
  },
  {
   "cell_type": "code",
   "execution_count": null,
   "id": "d9426e0d",
   "metadata": {},
   "outputs": [],
   "source": []
  }
 ],
 "metadata": {
  "kernelspec": {
   "display_name": "Python 3 (ipykernel)",
   "language": "python",
   "name": "python3"
  },
  "language_info": {
   "codemirror_mode": {
    "name": "ipython",
    "version": 3
   },
   "file_extension": ".py",
   "mimetype": "text/x-python",
   "name": "python",
   "nbconvert_exporter": "python",
   "pygments_lexer": "ipython3",
   "version": "3.9.7"
  }
 },
 "nbformat": 4,
 "nbformat_minor": 5
}
